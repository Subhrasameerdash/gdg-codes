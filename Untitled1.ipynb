{
 "cells": [
  {
   "cell_type": "code",
   "execution_count": 3,
   "id": "d2b4453c-ec3a-43c2-87c1-c500cd97f8c1",
   "metadata": {},
   "outputs": [
    {
     "ename": "OSError",
     "evalue": "[WinError 123] The filename, directory name, or volume label syntax is incorrect: 'https://github.com/Subhrasameerdash/gdg-codes'",
     "output_type": "error",
     "traceback": [
      "\u001b[1;31m---------------------------------------------------------------------------\u001b[0m",
      "\u001b[1;31mOSError\u001b[0m                                   Traceback (most recent call last)",
      "Cell \u001b[1;32mIn[3], line 8\u001b[0m\n\u001b[0;32m      5\u001b[0m repo_path \u001b[38;5;241m=\u001b[39m \u001b[38;5;124mr\u001b[39m\u001b[38;5;124m\"\u001b[39m\u001b[38;5;124mhttps://github.com/Subhrasameerdash/gdg-codes\u001b[39m\u001b[38;5;124m\"\u001b[39m  \u001b[38;5;66;03m# Replace with your project path\u001b[39;00m\n\u001b[0;32m      7\u001b[0m \u001b[38;5;66;03m# ✅ Change to the repository directory\u001b[39;00m\n\u001b[1;32m----> 8\u001b[0m os\u001b[38;5;241m.\u001b[39mchdir(repo_path)\n\u001b[0;32m     10\u001b[0m \u001b[38;5;66;03m# ✅ Check current branch\u001b[39;00m\n\u001b[0;32m     11\u001b[0m subprocess\u001b[38;5;241m.\u001b[39mrun([\u001b[38;5;124m\"\u001b[39m\u001b[38;5;124mgit\u001b[39m\u001b[38;5;124m\"\u001b[39m, \u001b[38;5;124m\"\u001b[39m\u001b[38;5;124mbranch\u001b[39m\u001b[38;5;124m\"\u001b[39m])\n",
      "\u001b[1;31mOSError\u001b[0m: [WinError 123] The filename, directory name, or volume label syntax is incorrect: 'https://github.com/Subhrasameerdash/gdg-codes'"
     ]
    }
   ],
   "source": [
    "import os\n",
    "import subprocess\n",
    "\n",
    "# ✅ Path to the GitHub repository\n",
    "repo_path = r\"https://github.com/Subhrasameerdash/gdg-codes\"  # Replace with your project path\n",
    "\n",
    "# ✅ Change to the repository directory\n",
    "os.chdir(repo_path)\n",
    "\n",
    "# ✅ Check current branch\n",
    "subprocess.run([\"git\", \"branch\"])\n",
    "\n",
    "# ✅ Add all files to Git\n",
    "print(\"\\n🔥 Adding all files to Git...\")\n",
    "subprocess.run([\"git\", \"add\", \".\"])\n",
    "\n",
    "# ✅ List added files\n",
    "print(\"\\n✅ Listing added files:\")\n",
    "added_files = subprocess.run([\"git\", \"status\", \"--short\"], capture_output=True, text=True)\n",
    "print(added_files.stdout)\n",
    "\n",
    "# ✅ Commit changes\n",
    "commit_message = \"Updated project files with all changes\"\n",
    "subprocess.run([\"git\", \"commit\", \"-m\", commit_message])\n",
    "\n",
    "# ✅ Push to GitHub\n",
    "print(\"\\n🚀 Pushing changes to GitHub...\")\n",
    "subprocess.run([\"git\", \"push\", \"-u\", \"origin\", \"main\"])\n",
    "\n",
    "print(\"\\n✅ All files have been added and pushed successfully!\")\n"
   ]
  },
  {
   "cell_type": "code",
   "execution_count": null,
   "id": "a74cde82-ea1a-46e3-bd4f-ae8cec79bcdb",
   "metadata": {},
   "outputs": [],
   "source": []
  }
 ],
 "metadata": {
  "kernelspec": {
   "display_name": "Python [conda env:base] *",
   "language": "python",
   "name": "conda-base-py"
  },
  "language_info": {
   "codemirror_mode": {
    "name": "ipython",
    "version": 3
   },
   "file_extension": ".py",
   "mimetype": "text/x-python",
   "name": "python",
   "nbconvert_exporter": "python",
   "pygments_lexer": "ipython3",
   "version": "3.12.7"
  }
 },
 "nbformat": 4,
 "nbformat_minor": 5
}
