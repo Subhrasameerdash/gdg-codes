{
 "cells": [
  {
   "cell_type": "code",
   "execution_count": 1,
   "id": "0ec95d34-0356-4abc-bc9f-3b551061019b",
   "metadata": {},
   "outputs": [
    {
     "name": "stdout",
     "output_type": "stream",
     "text": [
      "✅ Fine-tuned model directory exists: ['config.json', 'model.safetensors', 'special_tokens_map.json', 'tokenizer_config.json', 'vocab.txt']\n"
     ]
    }
   ],
   "source": [
    "import os\n",
    "\n",
    "model_dir = \"edu_feedback_bert_model_tuned\"\n",
    "\n",
    "if os.path.exists(model_dir):\n",
    "    print(\"✅ Fine-tuned model directory exists:\", os.listdir(model_dir))\n",
    "else:\n",
    "    print(\"❌ Model directory not found! Check if saving was successful.\")\n"
   ]
  },
  {
   "cell_type": "code",
   "execution_count": 3,
   "id": "17706b60-b7dc-4f18-b87f-00b1c9a46970",
   "metadata": {},
   "outputs": [
    {
     "name": "stdout",
     "output_type": "stream",
     "text": [
      "\n",
      "✅ `requirements.txt` file generated successfully!\n"
     ]
    }
   ],
   "source": [
    "# === Generate the requirements.txt file ===\n",
    "\n",
    "requirements = \"\"\"  \n",
    "Flask  \n",
    "tensorflow  \n",
    "torch  \n",
    "numpy  \n",
    "pandas  \n",
    "google-cloud-storage  \n",
    "google-cloud-aiplatform  \n",
    "google-cloud-functions\n",
    "scikit-learn\n",
    "transformers\n",
    "safetensors\n",
    "\"\"\"\n",
    "\n",
    "# Write to requirements.txt\n",
    "with open(\"requirements.txt\", \"w\") as f:\n",
    "    f.write(requirements.strip())\n",
    "\n",
    "print(\"\\n✅ `requirements.txt` file generated successfully!\")\n"
   ]
  },
  {
   "cell_type": "code",
   "execution_count": 7,
   "id": "f1a680a4-e056-49cd-ab3a-ef16c36ff698",
   "metadata": {},
   "outputs": [
    {
     "name": "stdout",
     "output_type": "stream",
     "text": [
      "Removing folder: .\\edu-feedback-api\\.ipynb_checkpoints\n",
      "Removing folder: .\\grading_reports\\.ipynb_checkpoints\n",
      "Removing folder: .\\grading_reports\\class_11\\math\\.ipynb_checkpoints\n",
      "Removing folder: .\\ncert_model_answers\\class_11\\math\\.ipynb_checkpoints\n",
      "Removing folder: .\\ncert_pdfs\\.ipynb_checkpoints\n",
      "Removing folder: .\\ncert_pdfs\\class_12\\.ipynb_checkpoints\n",
      "Removing folder: .\\ncert_texts\\class_12\\.ipynb_checkpoints\n",
      "Removing folder: .\\ncert_texts\\class_12\\physics\\.ipynb_checkpoints\n",
      "Removing folder: .\\training_data\\.ipynb_checkpoints\n",
      "Cleanup completed successfully!\n"
     ]
    }
   ],
   "source": [
    "import os\n",
    "import shutil\n",
    "\n",
    "def remove_unnecessary_files(root_dir='.'):\n",
    "    # List of directories to remove\n",
    "    folders_to_remove = ['.ipynb_checkpoints', '__pycache__']\n",
    "\n",
    "    # Extensions for temporary/cache files\n",
    "    temp_file_extensions = ['.tmp', '.log', '.cache', '.bak']\n",
    "\n",
    "    # Walk through all files and directories\n",
    "    for dirpath, dirnames, filenames in os.walk(root_dir):\n",
    "        # Remove specified folders\n",
    "        for folder in folders_to_remove:\n",
    "            folder_path = os.path.join(dirpath, folder)\n",
    "            if os.path.exists(folder_path):\n",
    "                print(f\"Removing folder: {folder_path}\")\n",
    "                shutil.rmtree(folder_path)\n",
    "\n",
    "        # Remove temporary/cache files\n",
    "        for filename in filenames:\n",
    "            if any(filename.endswith(ext) for ext in temp_file_extensions):\n",
    "                file_path = os.path.join(dirpath, filename)\n",
    "                print(f\"Removing file: {file_path}\")\n",
    "                os.remove(file_path)\n",
    "\n",
    "# Run the cleanup\n",
    "remove_unnecessary_files()\n",
    "print(\"Cleanup completed successfully!\")\n"
   ]
  },
  {
   "cell_type": "code",
   "execution_count": null,
   "id": "50fc9b52-7f8b-4e16-a4ad-324e50af9372",
   "metadata": {},
   "outputs": [],
   "source": []
  }
 ],
 "metadata": {
  "kernelspec": {
   "display_name": "Python [conda env:base] *",
   "language": "python",
   "name": "conda-base-py"
  },
  "language_info": {
   "codemirror_mode": {
    "name": "ipython",
    "version": 3
   },
   "file_extension": ".py",
   "mimetype": "text/x-python",
   "name": "python",
   "nbconvert_exporter": "python",
   "pygments_lexer": "ipython3",
   "version": "3.12.7"
  }
 },
 "nbformat": 4,
 "nbformat_minor": 5
}
