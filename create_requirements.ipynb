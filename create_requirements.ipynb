{
 "cells": [
  {
   "cell_type": "code",
   "execution_count": 6,
   "id": "90d85bc5-a56a-413a-bee2-89e0402fd69f",
   "metadata": {},
   "outputs": [
    {
     "name": "stdout",
     "output_type": "stream",
     "text": [
      "✅ `requirements.txt` created successfully at: requirements.txt\n"
     ]
    }
   ],
   "source": [
    "# ✅ Step 1: Define the dependencies\n",
    "dependencies = [\n",
    "    \"Flask==2.2.5\",\n",
    "    \"torch==2.1.0\",\n",
    "    \"transformers==4.29.2\",\n",
    "    \"google-cloud-functions==1.13.0\",\n",
    "    \"google-cloud-storage==2.16.0\",\n",
    "    \"pandas\",\n",
    "    \"scikit-learn\"\n",
    "]\n",
    "\n",
    "# ✅ Step 2: Write the dependencies to requirements.txt\n",
    "file_path = \"requirements.txt\"\n",
    "\n",
    "# Write the dependencies into the file\n",
    "with open(file_path, \"w\") as f:\n",
    "    f.write(\"\\n\".join(dependencies))\n",
    "\n",
    "print(f\"✅ `requirements.txt` created successfully at: {file_path}\")\n"
   ]
  },
  {
   "cell_type": "code",
   "execution_count": null,
   "id": "47434203-7c4e-4981-90e0-190c5a023431",
   "metadata": {},
   "outputs": [],
   "source": []
  }
 ],
 "metadata": {
  "kernelspec": {
   "display_name": "Python [conda env:base] *",
   "language": "python",
   "name": "conda-base-py"
  },
  "language_info": {
   "codemirror_mode": {
    "name": "ipython",
    "version": 3
   },
   "file_extension": ".py",
   "mimetype": "text/x-python",
   "name": "python",
   "nbconvert_exporter": "python",
   "pygments_lexer": "ipython3",
   "version": "3.12.7"
  }
 },
 "nbformat": 4,
 "nbformat_minor": 5
}
